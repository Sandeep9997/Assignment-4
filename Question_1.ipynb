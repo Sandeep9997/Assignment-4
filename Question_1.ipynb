{
 "cells": [
  {
   "cell_type": "code",
   "execution_count": 1,
   "metadata": {
    "collapsed": true
   },
   "outputs": [],
   "source": [
    "import pandas as pd"
   ]
  },
  {
   "cell_type": "code",
   "execution_count": 2,
   "metadata": {
    "collapsed": false
   },
   "outputs": [
    {
     "data": {
      "text/plain": [
       "{'age': [20],\n",
       " 'mail_id': ['sandeepbinwal123@gmail.com'],\n",
       " 'name': ['sandeep'],\n",
       " 'ph-no': [9235667678]}"
      ]
     },
     "execution_count": 2,
     "metadata": {},
     "output_type": "execute_result"
    }
   ],
   "source": [
    "#ques 1\n",
    "\n",
    "data={'name':['sandeep'],'age':[20],'mail_id':['sandeepbinwal123@gmail.com'],'ph-no':[ 9235667678]}\n",
    "data"
   ]
  },
  {
   "cell_type": "code",
   "execution_count": 3,
   "metadata": {
    "collapsed": false
   },
   "outputs": [
    {
     "data": {
      "text/html": [
       "<div>\n",
       "<table border=\"1\" class=\"dataframe\">\n",
       "  <thead>\n",
       "    <tr style=\"text-align: right;\">\n",
       "      <th></th>\n",
       "      <th>age</th>\n",
       "      <th>mail_id</th>\n",
       "      <th>name</th>\n",
       "      <th>ph-no</th>\n",
       "    </tr>\n",
       "  </thead>\n",
       "  <tbody>\n",
       "    <tr>\n",
       "      <th>0</th>\n",
       "      <td>20</td>\n",
       "      <td>sandeepbinwal123@gmail.com</td>\n",
       "      <td>sandeep</td>\n",
       "      <td>9235667678</td>\n",
       "    </tr>\n",
       "  </tbody>\n",
       "</table>\n",
       "</div>"
      ],
      "text/plain": [
       "   age                     mail_id     name       ph-no\n",
       "0   20  sandeepbinwal123@gmail.com  sandeep  9235667678"
      ]
     },
     "execution_count": 3,
     "metadata": {},
     "output_type": "execute_result"
    }
   ],
   "source": [
    "df = pd.DataFrame(data)\n",
    "df"
   ]
  },
  {
   "cell_type": "code",
   "execution_count": 4,
   "metadata": {
    "collapsed": false
   },
   "outputs": [
    {
     "data": {
      "text/plain": [
       "{'age': [20, 20, 23],\n",
       " 'mail_id': ['rohit123@gmail.com',\n",
       "  'guru345@gmail.com',\n",
       "  'amitbisht123@gmail.com'],\n",
       " 'name': ['rohit', 'guru', 'amit'],\n",
       " 'ph-no': [9678453245, 8765345687, 9765456786]}"
      ]
     },
     "execution_count": 4,
     "metadata": {},
     "output_type": "execute_result"
    }
   ],
   "source": [
    "# Friends Info\n",
    "\n",
    "data1={'name':['rohit','guru','amit'],'age':[20,20,23],'mail_id':['rohit123@gmail.com','guru345@gmail.com','amitbisht123@gmail.com'],'ph-no':[ 9678453245,8765345687,9765456786]}\n",
    "data1"
   ]
  },
  {
   "cell_type": "code",
   "execution_count": 5,
   "metadata": {
    "collapsed": false
   },
   "outputs": [
    {
     "data": {
      "text/html": [
       "<div>\n",
       "<table border=\"1\" class=\"dataframe\">\n",
       "  <thead>\n",
       "    <tr style=\"text-align: right;\">\n",
       "      <th></th>\n",
       "      <th>age</th>\n",
       "      <th>mail_id</th>\n",
       "      <th>name</th>\n",
       "      <th>ph-no</th>\n",
       "    </tr>\n",
       "  </thead>\n",
       "  <tbody>\n",
       "    <tr>\n",
       "      <th>0</th>\n",
       "      <td>20</td>\n",
       "      <td>rohit123@gmail.com</td>\n",
       "      <td>rohit</td>\n",
       "      <td>9678453245</td>\n",
       "    </tr>\n",
       "    <tr>\n",
       "      <th>1</th>\n",
       "      <td>20</td>\n",
       "      <td>guru345@gmail.com</td>\n",
       "      <td>guru</td>\n",
       "      <td>8765345687</td>\n",
       "    </tr>\n",
       "    <tr>\n",
       "      <th>2</th>\n",
       "      <td>23</td>\n",
       "      <td>amitbisht123@gmail.com</td>\n",
       "      <td>amit</td>\n",
       "      <td>9765456786</td>\n",
       "    </tr>\n",
       "  </tbody>\n",
       "</table>\n",
       "</div>"
      ],
      "text/plain": [
       "   age                 mail_id   name       ph-no\n",
       "0   20      rohit123@gmail.com  rohit  9678453245\n",
       "1   20       guru345@gmail.com   guru  8765345687\n",
       "2   23  amitbisht123@gmail.com   amit  9765456786"
      ]
     },
     "execution_count": 5,
     "metadata": {},
     "output_type": "execute_result"
    }
   ],
   "source": [
    "df1=pd.DataFrame(data1)\n",
    "df1"
   ]
  },
  {
   "cell_type": "code",
   "execution_count": 6,
   "metadata": {
    "collapsed": false
   },
   "outputs": [
    {
     "data": {
      "text/html": [
       "<div>\n",
       "<table border=\"1\" class=\"dataframe\">\n",
       "  <thead>\n",
       "    <tr style=\"text-align: right;\">\n",
       "      <th></th>\n",
       "      <th>age</th>\n",
       "      <th>mail_id</th>\n",
       "      <th>name</th>\n",
       "      <th>ph-no</th>\n",
       "    </tr>\n",
       "  </thead>\n",
       "  <tbody>\n",
       "    <tr>\n",
       "      <th>0</th>\n",
       "      <td>20</td>\n",
       "      <td>sandeepbinwal123@gmail.com</td>\n",
       "      <td>sandeep</td>\n",
       "      <td>9235667678</td>\n",
       "    </tr>\n",
       "    <tr>\n",
       "      <th>1</th>\n",
       "      <td>20</td>\n",
       "      <td>rohit123@gmail.com</td>\n",
       "      <td>rohit</td>\n",
       "      <td>9678453245</td>\n",
       "    </tr>\n",
       "    <tr>\n",
       "      <th>2</th>\n",
       "      <td>20</td>\n",
       "      <td>guru345@gmail.com</td>\n",
       "      <td>guru</td>\n",
       "      <td>8765345687</td>\n",
       "    </tr>\n",
       "    <tr>\n",
       "      <th>3</th>\n",
       "      <td>23</td>\n",
       "      <td>amitbisht123@gmail.com</td>\n",
       "      <td>amit</td>\n",
       "      <td>9765456786</td>\n",
       "    </tr>\n",
       "  </tbody>\n",
       "</table>\n",
       "</div>"
      ],
      "text/plain": [
       "   age                     mail_id     name       ph-no\n",
       "0   20  sandeepbinwal123@gmail.com  sandeep  9235667678\n",
       "1   20          rohit123@gmail.com    rohit  9678453245\n",
       "2   20           guru345@gmail.com     guru  8765345687\n",
       "3   23      amitbisht123@gmail.com     amit  9765456786"
      ]
     },
     "execution_count": 6,
     "metadata": {},
     "output_type": "execute_result"
    }
   ],
   "source": [
    "# final answer\n",
    "\n",
    "df.append(df1, ignore_index=True)"
   ]
  },
  {
   "cell_type": "code",
   "execution_count": null,
   "metadata": {
    "collapsed": true
   },
   "outputs": [],
   "source": []
  }
 ],
 "metadata": {
  "anaconda-cloud": {},
  "kernelspec": {
   "display_name": "Python [conda root]",
   "language": "python",
   "name": "conda-root-py"
  },
  "language_info": {
   "codemirror_mode": {
    "name": "ipython",
    "version": 3
   },
   "file_extension": ".py",
   "mimetype": "text/x-python",
   "name": "python",
   "nbconvert_exporter": "python",
   "pygments_lexer": "ipython3",
   "version": "3.5.2"
  }
 },
 "nbformat": 4,
 "nbformat_minor": 1
}
